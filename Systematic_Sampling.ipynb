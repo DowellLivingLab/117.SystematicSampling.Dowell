{
  "nbformat": 4,
  "nbformat_minor": 0,
  "metadata": {
    "colab": {
      "name": "Systematic Sampling",
      "provenance": [],
      "collapsed_sections": []
    },
    "kernelspec": {
      "name": "python3",
      "display_name": "Python 3"
    }
  },
  "cells": [
    {
      "cell_type": "code",
      "metadata": {
        "id": "bQsR13_5api3",
        "colab_type": "code",
        "colab": {}
      },
      "source": [
        "def systematic_sample(N, n):\n",
        "  '''\n",
        "  Inputs:\n",
        "  N = The size of the popultation\n",
        "  n = The size of the sample\n",
        "\n",
        "  Returns:\n",
        "  A systematic sample\n",
        "  '''\n",
        "  import numpy as np\n",
        "  k = round(N / n)\n",
        "  r = np.random.choice(a = np.arange(1, k), size = 1)\n",
        "  systematic_sample = np.arange(r, (r + k*(n-1)), k)\n",
        "  return(systematic_sample)"
      ],
      "execution_count": 2,
      "outputs": []
    },
    {
      "cell_type": "code",
      "metadata": {
        "id": "DAxJic1yfLgu",
        "colab_type": "code",
        "colab": {}
      },
      "source": [
        "def selecting_sample(data, sample_size):\n",
        "  '''\n",
        "  data : Input a dataframe in which you want a sample\n",
        "  sample_size : Input the sample size required \n",
        "\n",
        "  Returns : A systematic sample\n",
        "  '''\n",
        "  x = systematic_sample(data.shape[0], sample_size)\n",
        "  selecting_sample = data.loc[x,:]\n",
        "  return(selecting_sample)"
      ],
      "execution_count": null,
      "outputs": []
    }
  ]
}